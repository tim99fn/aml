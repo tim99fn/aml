{
 "cells": [
  {
   "cell_type": "code",
   "execution_count": 3,
   "id": "b715d493",
   "metadata": {},
   "outputs": [],
   "source": [
    "# imports\n",
    "import pandas as pd\n",
    "from sklearn.preprocessing import StandardScaler\n",
    "from sklearn.linear_model import LassoCV"
   ]
  },
  {
   "cell_type": "code",
   "execution_count": 4,
   "id": "ea6720bb",
   "metadata": {},
   "outputs": [],
   "source": [
    "def get_data():\n",
    "    x_train_ = pd.read_csv('X_train.csv').drop('id', axis=1)\n",
    "    y_train_ = pd.read_csv('y_train.csv', usecols=['y'])\n",
    "    x_test_ = pd.read_csv('X_test.csv').drop('id', axis=1)\n",
    "    return x_train_, y_train_, x_test_"
   ]
  },
  {
   "cell_type": "code",
   "execution_count": 14,
   "id": "5933a079",
   "metadata": {},
   "outputs": [],
   "source": [
    "x_train, y_train, x_test = get_data()"
   ]
  },
  {
   "cell_type": "code",
   "execution_count": 15,
   "id": "301bd938",
   "metadata": {},
   "outputs": [
    {
     "data": {
      "text/plain": [
       "array([[<AxesSubplot:title={'center':'y'}>]], dtype=object)"
      ]
     },
     "execution_count": 15,
     "metadata": {},
     "output_type": "execute_result"
    },
    {
     "data": {
      "image/png": "[encoded data removed]",
      "text/plain": [
       "<Figure size 432x288 with 1 Axes>"
      ]
     },
     "metadata": {
      "needs_background": "light"
     },
     "output_type": "display_data"
    }
   ],
   "source": [
    "y_train.hist()"
   ]
  },
  {
   "cell_type": "code",
   "execution_count": null,
   "id": "237700f4",
   "metadata": {},
   "outputs": [],
   "source": []
  }
 ],
 "metadata": {
  "kernelspec": {
   "display_name": "Python 3.9 (tensorflow)",
   "language": "python",
   "name": "tensorflow"
  },
  "language_info": {
   "codemirror_mode": {
    "name": "ipython",
    "version": 3
   },
   "file_extension": ".py",
   "mimetype": "text/x-python",
   "name": "python",
   "nbconvert_exporter": "python",
   "pygments_lexer": "ipython3",
   "version": "3.9.12"
  }
 },
 "nbformat": 4,
 "nbformat_minor": 5
}
